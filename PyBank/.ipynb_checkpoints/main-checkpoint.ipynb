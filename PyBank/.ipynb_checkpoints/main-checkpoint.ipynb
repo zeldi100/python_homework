{
 "cells": [
  {
   "cell_type": "code",
   "execution_count": 5,
   "metadata": {},
   "outputs": [
    {
     "ename": "SyntaxError",
     "evalue": "EOL while scanning string literal (<ipython-input-5-9d2c7ba74fed>, line 16)",
     "output_type": "error",
     "traceback": [
      "\u001b[0;36m  File \u001b[0;32m\"<ipython-input-5-9d2c7ba74fed>\"\u001b[0;36m, line \u001b[0;32m16\u001b[0m\n\u001b[0;31m    \"\"\"\"\u001b[0m\n\u001b[0m        \n^\u001b[0m\n\u001b[0;31mSyntaxError\u001b[0m\u001b[0;31m:\u001b[0m EOL while scanning string literal\n"
     ]
    }
   ],
   "source": [
    "\"\"\"\"\n",
    "Pseudocode for Python Assignment Section 1 PyBank to analyze the records of a csv file \n",
    "to calculate:\n",
    "1. Total number of months included in the dataset\n",
    "2. The net total amount of Profit/Losses over the entire period.\n",
    "3. The average of the changes in Profit/Losses over the entire period.\n",
    "4. The greatest increase in profits (date and amount) over the entire period.\n",
    "5. The greatest decrease in losses (date and amount) over the entire period.\n",
    "\n",
    "- edit this ex ..This script will use the Pathlib library to set the file path,\n",
    "use the csv library to read in the file, iterate over each\n",
    "row of the file to capture employee salaries, calculate min,\n",
    "max, avg metrics of employee salaries, and write the metrics\n",
    "to a csv file.\n",
    "\n",
    "\"\"\"\"\n",
    "\n",
    "# Import the pathlib and csv library\n",
    "from pathlib import Path\n",
    "import csv\n",
    "\n",
    "# Set the file path\n",
    "csvpath = Path('/Resources/budget_data.csv')\n",
    "\n",
    "# Initialize variable to hold profit and losses\n",
    "profit_losses = []\n",
    "\n",
    "# Initialize variable to hold line number\n",
    "line_num = 0\n",
    "\n",
    "# Open the input path as a file object\n",
    "with open(csvpath, 'r') as csvfile:\n",
    "    # Print the datatype of the file object\n",
    "    print(type(csvfile))\n",
    "    \n",
    "    # Pass in the csv file to the csv.reader() function\n",
    "    # (with ',' as the delmiter/separator) and return the csvreader object\n",
    "    csvreader = csv.reader(csvfile, delimiter=',')\n",
    "    \n",
    "    # Print the datatype of the csvreader\n",
    "    print(type(csvreader))\n",
    "\n",
    "    # Go to the next row from the start of the file\n",
    "    # (which is often the first row/header) and iterate line_num by 1\n",
    "    header = next(csvreader)\n",
    "    line_num += 1\n",
    "    # Print the header\n",
    "    print(f\"{header} <---- HEADER\")\n",
    "    \n",
    "    # Read each row of data after the header\n",
    "    for row in csvreader:\n",
    "        # Print the row\n",
    "        print(row)\n",
    "        # Set profit/losses variable equal to the value in the 2th column of each row\n",
    "        profit_losses = int(row[1])\n",
    "        # Append the row salary value to the list of salaries\n",
    "        profit_losses.append(profit_losses)"
   ]
  },
  {
   "cell_type": "code",
   "execution_count": null,
   "metadata": {},
   "outputs": [],
   "source": []
  }
 ],
 "metadata": {
  "kernelspec": {
   "display_name": "Python 3",
   "language": "python",
   "name": "python3"
  },
  "language_info": {
   "codemirror_mode": {
    "name": "ipython",
    "version": 3
   },
   "file_extension": ".py",
   "mimetype": "text/x-python",
   "name": "python",
   "nbconvert_exporter": "python",
   "pygments_lexer": "ipython3",
   "version": "3.7.7"
  }
 },
 "nbformat": 4,
 "nbformat_minor": 4
}
